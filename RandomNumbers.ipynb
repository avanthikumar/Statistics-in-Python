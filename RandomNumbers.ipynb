{
 "cells": [
  {
   "cell_type": "code",
   "execution_count": 1,
   "metadata": {},
   "outputs": [],
   "source": [
    "import random"
   ]
  },
  {
   "cell_type": "code",
   "execution_count": 24,
   "metadata": {},
   "outputs": [
    {
     "data": {
      "text/plain": [
       "0.8444218515250481"
      ]
     },
     "execution_count": 24,
     "metadata": {},
     "output_type": "execute_result"
    }
   ],
   "source": [
    "# Random floating point value between 0 and 1, 0 inclusive and 1 exclusive\n",
    "random.seed(0) #For reproducing the same random number\n",
    "randval = random.random()\n",
    "randval"
   ]
  },
  {
   "cell_type": "code",
   "execution_count": 29,
   "metadata": {},
   "outputs": [
    {
     "data": {
      "text/plain": [
       "8.599796663725433"
      ]
     },
     "execution_count": 29,
     "metadata": {},
     "output_type": "execute_result"
    }
   ],
   "source": [
    "# Random floating point value between given range, 1 inclusive 10 exclusive\n",
    "random.seed(0) #For reproducing the same random number\n",
    "randuni = random.uniform(1,10)\n",
    "randuni"
   ]
  },
  {
   "cell_type": "code",
   "execution_count": 20,
   "metadata": {},
   "outputs": [
    {
     "name": "stdout",
     "output_type": "stream",
     "text": [
      "4\n",
      "1\n",
      "2\n",
      "2\n"
     ]
    }
   ],
   "source": [
    "# Random integer, ex. simulate a die roll for 3 times\n",
    "\n",
    "for i in range(0,4):\n",
    "    die = random.randint(1,6) #1 and 6 inclusive\n",
    "    print(die)"
   ]
  },
  {
   "cell_type": "code",
   "execution_count": 13,
   "metadata": {},
   "outputs": [
    {
     "name": "stdout",
     "output_type": "stream",
     "text": [
      "12\n"
     ]
    }
   ],
   "source": [
    "# Choose a number from a list of numbers randomly\n",
    "mylist = [3,5,7,9,0,12,45]\n",
    "num = random.choice(mylist)\n",
    "print(num)"
   ]
  },
  {
   "cell_type": "code",
   "execution_count": 15,
   "metadata": {},
   "outputs": [
    {
     "data": {
      "text/plain": [
       "['black',\n",
       " 'black',\n",
       " 'red',\n",
       " 'red',\n",
       " 'black',\n",
       " 'red',\n",
       " 'red',\n",
       " 'red',\n",
       " 'black',\n",
       " 'black',\n",
       " 'red',\n",
       " 'black',\n",
       " 'red',\n",
       " 'black',\n",
       " 'red']"
      ]
     },
     "execution_count": 15,
     "metadata": {},
     "output_type": "execute_result"
    }
   ],
   "source": [
    "# Choose (with replacement) multiple colors from a list of colors, could be weighted selection \n",
    "#(Roulette simulation, 18 black, 18 red slots but just 2 green slots)\n",
    "mycolors = ['red','black','green']\n",
    "colors = random.choices(mycolors, weights = [18,18,2], k=15)\n",
    "colors"
   ]
  },
  {
   "cell_type": "code",
   "execution_count": 18,
   "metadata": {},
   "outputs": [
    {
     "name": "stdout",
     "output_type": "stream",
     "text": [
      "[1, 2, 3, 4, 5, 6, 7, 8, 9, 10, 11, 12, 13, 14, 15, 16, 17, 18, 19, 20, 21, 22, 23, 24, 25, 26, 27, 28, 29, 30, 31, 32, 33, 34, 35, 36, 37, 38, 39, 40, 41, 42, 43, 44, 45, 46, 47, 48, 49, 50, 51, 52]\n",
      "[42, 52, 41, 13, 35, 32, 46, 15, 22, 27, 8, 11, 7, 2, 28, 51, 44, 31, 19, 30, 43, 4, 38, 9, 50, 1, 17, 37, 25, 45, 21, 24, 47, 40, 6, 16, 23, 12, 5, 49, 36, 3, 29, 14, 26, 20, 10, 18, 33, 48, 39, 34]\n"
     ]
    }
   ],
   "source": [
    "#Shuffle\n",
    "\n",
    "deck = list(range(1,53)) #52 cards\n",
    "print(deck)\n",
    "random.shuffle(deck) #In place shuffling\n",
    "print(deck)"
   ]
  },
  {
   "cell_type": "code",
   "execution_count": 21,
   "metadata": {},
   "outputs": [
    {
     "name": "stdout",
     "output_type": "stream",
     "text": [
      "[22, 51, 7, 32, 12]\n"
     ]
    }
   ],
   "source": [
    "# Choose 5 unique(w/o replacement) cards from a deck. Note: can not use choice as it chooses with replacement\n",
    "sample = random.sample(deck, k=5)\n",
    "print(sample)"
   ]
  },
  {
   "cell_type": "code",
   "execution_count": null,
   "metadata": {},
   "outputs": [],
   "source": []
  }
 ],
 "metadata": {
  "kernelspec": {
   "display_name": "Python 3",
   "language": "python",
   "name": "python3"
  },
  "language_info": {
   "codemirror_mode": {
    "name": "ipython",
    "version": 3
   },
   "file_extension": ".py",
   "mimetype": "text/x-python",
   "name": "python",
   "nbconvert_exporter": "python",
   "pygments_lexer": "ipython3",
   "version": "3.7.5"
  }
 },
 "nbformat": 4,
 "nbformat_minor": 2
}

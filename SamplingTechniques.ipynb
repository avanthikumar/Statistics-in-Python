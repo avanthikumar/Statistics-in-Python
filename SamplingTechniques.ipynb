{
 "cells": [
  {
   "cell_type": "code",
   "execution_count": 31,
   "metadata": {},
   "outputs": [],
   "source": [
    "import pandas as pd\n",
    "import numpy as np\n",
    "import random"
   ]
  },
  {
   "cell_type": "code",
   "execution_count": 76,
   "metadata": {},
   "outputs": [],
   "source": [
    "# Population of 100 integers between 1 to 500\n",
    "pop = random.choices(list(range(501)),k=100)\n",
    "popdf = pd.DataFrame(pop)"
   ]
  },
  {
   "cell_type": "markdown",
   "metadata": {},
   "source": [
    "#### Simple Random Sampling"
   ]
  },
  {
   "cell_type": "code",
   "execution_count": 77,
   "metadata": {},
   "outputs": [
    {
     "name": "stdout",
     "output_type": "stream",
     "text": [
      "[405, 364, 217, 338, 313, 108, 305, 411, 241, 205]\n"
     ]
    }
   ],
   "source": [
    "random_sample = random.sample(pop,k=10)\n",
    "print(random_sample)"
   ]
  },
  {
   "cell_type": "markdown",
   "metadata": {},
   "source": [
    "#### Systematic sampling - Choose every nth element from population"
   ]
  },
  {
   "cell_type": "code",
   "execution_count": 29,
   "metadata": {},
   "outputs": [],
   "source": [
    "def systematic_sampling(df,step):\n",
    "    indices =range(0,len(df),step)\n",
    "    #print(indices)\n",
    "    return df.iloc[indices]"
   ]
  },
  {
   "cell_type": "code",
   "execution_count": 30,
   "metadata": {},
   "outputs": [
    {
     "name": "stdout",
     "output_type": "stream",
     "text": [
      "      0\n",
      "0    16\n",
      "10  465\n",
      "20  117\n",
      "30  460\n",
      "40  488\n",
      "50  482\n",
      "60  211\n",
      "70   12\n",
      "80  320\n",
      "90  376\n"
     ]
    }
   ],
   "source": [
    "samp = systematic_sampling(popdf,10) #Choose every 10th integer\n",
    "print(samp)"
   ]
  },
  {
   "cell_type": "markdown",
   "metadata": {},
   "source": [
    "#### Cluster Sampling - A population is divided into multiple clusters and a specific number of clusters are chosen as sample"
   ]
  },
  {
   "cell_type": "code",
   "execution_count": 53,
   "metadata": {},
   "outputs": [
    {
     "name": "stdout",
     "output_type": "stream",
     "text": [
      "200\n"
     ]
    },
    {
     "data": {
      "text/html": [
       "<div>\n",
       "<style scoped>\n",
       "    .dataframe tbody tr th:only-of-type {\n",
       "        vertical-align: middle;\n",
       "    }\n",
       "\n",
       "    .dataframe tbody tr th {\n",
       "        vertical-align: top;\n",
       "    }\n",
       "\n",
       "    .dataframe thead th {\n",
       "        text-align: right;\n",
       "    }\n",
       "</style>\n",
       "<table border=\"1\" class=\"dataframe\">\n",
       "  <thead>\n",
       "    <tr style=\"text-align: right;\">\n",
       "      <th></th>\n",
       "      <th>tour_group</th>\n",
       "      <th>rating</th>\n",
       "    </tr>\n",
       "  </thead>\n",
       "  <tbody>\n",
       "    <tr>\n",
       "      <th>0</th>\n",
       "      <td>1</td>\n",
       "      <td>5.6</td>\n",
       "    </tr>\n",
       "    <tr>\n",
       "      <th>1</th>\n",
       "      <td>1</td>\n",
       "      <td>5.1</td>\n",
       "    </tr>\n",
       "    <tr>\n",
       "      <th>2</th>\n",
       "      <td>1</td>\n",
       "      <td>4.9</td>\n",
       "    </tr>\n",
       "    <tr>\n",
       "      <th>3</th>\n",
       "      <td>1</td>\n",
       "      <td>3.8</td>\n",
       "    </tr>\n",
       "    <tr>\n",
       "      <th>4</th>\n",
       "      <td>1</td>\n",
       "      <td>1.5</td>\n",
       "    </tr>\n",
       "  </tbody>\n",
       "</table>\n",
       "</div>"
      ],
      "text/plain": [
       "   tour_group  rating\n",
       "0           1     5.6\n",
       "1           1     5.1\n",
       "2           1     4.9\n",
       "3           1     3.8\n",
       "4           1     1.5"
      ]
     },
     "execution_count": 53,
     "metadata": {},
     "output_type": "execute_result"
    }
   ],
   "source": [
    "ratings = []\n",
    "for i in range(1,201):\n",
    "    ratings.append(round(random.uniform(1,6),1))\n",
    "print(len(ratings))\n",
    "\n",
    "tour_ratings = pd.DataFrame({\n",
    "    'tour_group' :  np.repeat(range(1,11), 20),\n",
    "    'rating' : ratings\n",
    "    \n",
    "})\n",
    "tour_ratings.head()"
   ]
  },
  {
   "cell_type": "code",
   "execution_count": 71,
   "metadata": {},
   "outputs": [
    {
     "data": {
      "text/plain": [
       "[3, 8, 6, 10]"
      ]
     },
     "execution_count": 71,
     "metadata": {},
     "output_type": "execute_result"
    }
   ],
   "source": [
    "#tour_ratings['tour_group'].unique()\n",
    "chosen_clusters = random.sample(list(tour_ratings['tour_group'].unique()),k=4)\n",
    "chosen_clusters"
   ]
  },
  {
   "cell_type": "code",
   "execution_count": 74,
   "metadata": {},
   "outputs": [],
   "source": [
    "cluster_sample = tour_ratings[tour_ratings['tour_group'].isin(chosen_clusters)]"
   ]
  },
  {
   "cell_type": "markdown",
   "metadata": {},
   "source": [
    "#### Stratified Sampling \n",
    "\n",
    "##### Step1: Create strata based on a variable\n",
    "##### Step 2: Draw random samples from each strata based on a weight"
   ]
  },
  {
   "cell_type": "code",
   "execution_count": 105,
   "metadata": {},
   "outputs": [
    {
     "data": {
      "text/html": [
       "<div>\n",
       "<style scoped>\n",
       "    .dataframe tbody tr th:only-of-type {\n",
       "        vertical-align: middle;\n",
       "    }\n",
       "\n",
       "    .dataframe tbody tr th {\n",
       "        vertical-align: top;\n",
       "    }\n",
       "\n",
       "    .dataframe thead th {\n",
       "        text-align: right;\n",
       "    }\n",
       "</style>\n",
       "<table border=\"1\" class=\"dataframe\">\n",
       "  <thead>\n",
       "    <tr style=\"text-align: right;\">\n",
       "      <th></th>\n",
       "      <th>major</th>\n",
       "      <th>gpa</th>\n",
       "    </tr>\n",
       "  </thead>\n",
       "  <tbody>\n",
       "    <tr>\n",
       "      <th>0</th>\n",
       "      <td>Science</td>\n",
       "      <td>2.793044</td>\n",
       "    </tr>\n",
       "    <tr>\n",
       "      <th>1</th>\n",
       "      <td>Science</td>\n",
       "      <td>1.202388</td>\n",
       "    </tr>\n",
       "    <tr>\n",
       "      <th>2</th>\n",
       "      <td>Math</td>\n",
       "      <td>3.980595</td>\n",
       "    </tr>\n",
       "    <tr>\n",
       "      <th>3</th>\n",
       "      <td>English</td>\n",
       "      <td>2.196242</td>\n",
       "    </tr>\n",
       "    <tr>\n",
       "      <th>4</th>\n",
       "      <td>Computer Science</td>\n",
       "      <td>3.665141</td>\n",
       "    </tr>\n",
       "  </tbody>\n",
       "</table>\n",
       "</div>"
      ],
      "text/plain": [
       "              major       gpa\n",
       "0           Science  2.793044\n",
       "1           Science  1.202388\n",
       "2              Math  3.980595\n",
       "3           English  2.196242\n",
       "4  Computer Science  3.665141"
      ]
     },
     "execution_count": 105,
     "metadata": {},
     "output_type": "execute_result"
    }
   ],
   "source": [
    "# Generating data for major and gpa of 1000 college students\n",
    "college_gpa = pd.DataFrame({\n",
    "    'major': random.choices(['English','Computer Science','Math','Engineering','Science'],weights=[12,24,15,21,28],k=1000),\n",
    "    'gpa': np.random.uniform(1,4,(1000))\n",
    "})\n",
    "\n",
    "college_gpa.head()"
   ]
  },
  {
   "cell_type": "code",
   "execution_count": 106,
   "metadata": {},
   "outputs": [],
   "source": [
    "# Creating 5 strata based on major\n",
    "\n",
    "strata_eng = college_gpa[college_gpa['major'] == 'English']\n",
    "strata_cs = college_gpa[college_gpa['major'] == 'Computer Science']\n",
    "strata_math = college_gpa[college_gpa['major'] == 'Math']\n",
    "strata_engg = college_gpa[college_gpa['major'] == 'Engineering']\n",
    "strata_sci = college_gpa[college_gpa['major'] == 'Science']\n"
   ]
  },
  {
   "cell_type": "code",
   "execution_count": 118,
   "metadata": {},
   "outputs": [],
   "source": [
    "# Assume the proprtion of college majors in the population is as follows:\n",
    "# 12% major in English\n",
    "# 28% major in Science\n",
    "# 24% major in Computer Science\n",
    "# 21% major in Engineering\n",
    "# 15% major in Math\n",
    "\n",
    "#Create a stratified sample of size 100\n",
    "eng = strata_eng.iloc[random.sample(range(len(strata_eng)),k=12)]\n",
    "sci = strata_sci.iloc[random.sample(range(len(strata_eng)),k=28)]\n",
    "cs = strata_cs.iloc[random.sample(range(len(strata_eng)),k=24)]\n",
    "engg = strata_engg.iloc[random.sample(range(len(strata_eng)),k=21)]\n",
    "math = strata_math.iloc[random.sample(range(len(strata_eng)),k=15)]\n",
    "\n",
    "strat_sample = pd.concat([eng,sci,cs,engg,math],ignore_index = True)"
   ]
  },
  {
   "cell_type": "code",
   "execution_count": null,
   "metadata": {},
   "outputs": [],
   "source": []
  }
 ],
 "metadata": {
  "kernelspec": {
   "display_name": "Python 3",
   "language": "python",
   "name": "python3"
  },
  "language_info": {
   "codemirror_mode": {
    "name": "ipython",
    "version": 3
   },
   "file_extension": ".py",
   "mimetype": "text/x-python",
   "name": "python",
   "nbconvert_exporter": "python",
   "pygments_lexer": "ipython3",
   "version": "3.7.5"
  }
 },
 "nbformat": 4,
 "nbformat_minor": 2
}
